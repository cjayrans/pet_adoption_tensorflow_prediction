{
 "cells": [
  {
   "cell_type": "code",
   "execution_count": 1,
   "metadata": {},
   "outputs": [
    {
     "name": "stderr",
     "output_type": "stream",
     "text": [
      "/Users/carsonransford/anaconda3/lib/python3.7/site-packages/pandas/compat/_optional.py:138: UserWarning: Pandas requires version '2.7.0' or newer of 'numexpr' (version '2.6.9' currently installed).\n",
      "  warnings.warn(msg, UserWarning)\n"
     ]
    }
   ],
   "source": [
    "import numpy as np\n",
    "import pandas as pd\n",
    "import os\n",
    "import tensorflow as tf\n",
    "\n",
    "from tensorflow import feature_column\n",
    "from tensorflow.keras import layers\n",
    "from sklearn.model_selection import train_test_split"
   ]
  },
  {
   "cell_type": "code",
   "execution_count": 2,
   "metadata": {},
   "outputs": [
    {
     "data": {
      "text/plain": [
       "'2.11.0'"
      ]
     },
     "execution_count": 2,
     "metadata": {},
     "output_type": "execute_result"
    }
   ],
   "source": [
    "tf.__version__"
   ]
  },
  {
   "cell_type": "code",
   "execution_count": 3,
   "metadata": {},
   "outputs": [
    {
     "name": "stdout",
     "output_type": "stream",
     "text": [
      "Path already exists - Downloading data from local directory\n"
     ]
    }
   ],
   "source": [
    "csv_file = 'datasets/petfinder-mini/petfinder-mini.csv'\n",
    "\n",
    "if os.path.exists(csv_file):\n",
    "    print('Path already exists - Downloading data from local directory')\n",
    "    dataframe = pd.read_csv(csv_file)\n",
    "else: \n",
    "    print('File path does not exist - downloading data and creating path...')\n",
    "    dataset_url = 'http://storage.googleapis.com/download.tensorflow.org/data/petfinder-mini.zip'\n",
    "\n",
    "    tf.keras.utils.get_file('petfinder_mini.zip', dataset_url,\n",
    "                            extract=True, cache_dir='.')\n",
    "    \n",
    "    dataframe = pd.read_csv(csv_file)"
   ]
  },
  {
   "cell_type": "code",
   "execution_count": 4,
   "metadata": {},
   "outputs": [
    {
     "data": {
      "text/html": [
       "<div>\n",
       "<style scoped>\n",
       "    .dataframe tbody tr th:only-of-type {\n",
       "        vertical-align: middle;\n",
       "    }\n",
       "\n",
       "    .dataframe tbody tr th {\n",
       "        vertical-align: top;\n",
       "    }\n",
       "\n",
       "    .dataframe thead th {\n",
       "        text-align: right;\n",
       "    }\n",
       "</style>\n",
       "<table border=\"1\" class=\"dataframe\">\n",
       "  <thead>\n",
       "    <tr style=\"text-align: right;\">\n",
       "      <th></th>\n",
       "      <th>Type</th>\n",
       "      <th>Age</th>\n",
       "      <th>Breed1</th>\n",
       "      <th>Gender</th>\n",
       "      <th>Color1</th>\n",
       "      <th>Color2</th>\n",
       "      <th>MaturitySize</th>\n",
       "      <th>FurLength</th>\n",
       "      <th>Vaccinated</th>\n",
       "      <th>Sterilized</th>\n",
       "      <th>Health</th>\n",
       "      <th>Fee</th>\n",
       "      <th>Description</th>\n",
       "      <th>PhotoAmt</th>\n",
       "      <th>AdoptionSpeed</th>\n",
       "    </tr>\n",
       "  </thead>\n",
       "  <tbody>\n",
       "    <tr>\n",
       "      <th>0</th>\n",
       "      <td>Cat</td>\n",
       "      <td>3</td>\n",
       "      <td>Tabby</td>\n",
       "      <td>Male</td>\n",
       "      <td>Black</td>\n",
       "      <td>White</td>\n",
       "      <td>Small</td>\n",
       "      <td>Short</td>\n",
       "      <td>No</td>\n",
       "      <td>No</td>\n",
       "      <td>Healthy</td>\n",
       "      <td>100</td>\n",
       "      <td>Nibble is a 3+ month old ball of cuteness. He ...</td>\n",
       "      <td>1</td>\n",
       "      <td>2</td>\n",
       "    </tr>\n",
       "    <tr>\n",
       "      <th>1</th>\n",
       "      <td>Cat</td>\n",
       "      <td>1</td>\n",
       "      <td>Domestic Medium Hair</td>\n",
       "      <td>Male</td>\n",
       "      <td>Black</td>\n",
       "      <td>Brown</td>\n",
       "      <td>Medium</td>\n",
       "      <td>Medium</td>\n",
       "      <td>Not Sure</td>\n",
       "      <td>Not Sure</td>\n",
       "      <td>Healthy</td>\n",
       "      <td>0</td>\n",
       "      <td>I just found it alone yesterday near my apartm...</td>\n",
       "      <td>2</td>\n",
       "      <td>0</td>\n",
       "    </tr>\n",
       "    <tr>\n",
       "      <th>2</th>\n",
       "      <td>Dog</td>\n",
       "      <td>1</td>\n",
       "      <td>Mixed Breed</td>\n",
       "      <td>Male</td>\n",
       "      <td>Brown</td>\n",
       "      <td>White</td>\n",
       "      <td>Medium</td>\n",
       "      <td>Medium</td>\n",
       "      <td>Yes</td>\n",
       "      <td>No</td>\n",
       "      <td>Healthy</td>\n",
       "      <td>0</td>\n",
       "      <td>Their pregnant mother was dumped by her irresp...</td>\n",
       "      <td>7</td>\n",
       "      <td>3</td>\n",
       "    </tr>\n",
       "    <tr>\n",
       "      <th>3</th>\n",
       "      <td>Dog</td>\n",
       "      <td>4</td>\n",
       "      <td>Mixed Breed</td>\n",
       "      <td>Female</td>\n",
       "      <td>Black</td>\n",
       "      <td>Brown</td>\n",
       "      <td>Medium</td>\n",
       "      <td>Short</td>\n",
       "      <td>Yes</td>\n",
       "      <td>No</td>\n",
       "      <td>Healthy</td>\n",
       "      <td>150</td>\n",
       "      <td>Good guard dog, very alert, active, obedience ...</td>\n",
       "      <td>8</td>\n",
       "      <td>2</td>\n",
       "    </tr>\n",
       "    <tr>\n",
       "      <th>4</th>\n",
       "      <td>Dog</td>\n",
       "      <td>1</td>\n",
       "      <td>Mixed Breed</td>\n",
       "      <td>Male</td>\n",
       "      <td>Black</td>\n",
       "      <td>No Color</td>\n",
       "      <td>Medium</td>\n",
       "      <td>Short</td>\n",
       "      <td>No</td>\n",
       "      <td>No</td>\n",
       "      <td>Healthy</td>\n",
       "      <td>0</td>\n",
       "      <td>This handsome yet cute boy is up for adoption....</td>\n",
       "      <td>3</td>\n",
       "      <td>2</td>\n",
       "    </tr>\n",
       "  </tbody>\n",
       "</table>\n",
       "</div>"
      ],
      "text/plain": [
       "  Type  Age                Breed1  Gender Color1    Color2 MaturitySize  \\\n",
       "0  Cat    3                 Tabby    Male  Black     White        Small   \n",
       "1  Cat    1  Domestic Medium Hair    Male  Black     Brown       Medium   \n",
       "2  Dog    1           Mixed Breed    Male  Brown     White       Medium   \n",
       "3  Dog    4           Mixed Breed  Female  Black     Brown       Medium   \n",
       "4  Dog    1           Mixed Breed    Male  Black  No Color       Medium   \n",
       "\n",
       "  FurLength Vaccinated Sterilized   Health  Fee  \\\n",
       "0     Short         No         No  Healthy  100   \n",
       "1    Medium   Not Sure   Not Sure  Healthy    0   \n",
       "2    Medium        Yes         No  Healthy    0   \n",
       "3     Short        Yes         No  Healthy  150   \n",
       "4     Short         No         No  Healthy    0   \n",
       "\n",
       "                                         Description  PhotoAmt  AdoptionSpeed  \n",
       "0  Nibble is a 3+ month old ball of cuteness. He ...         1              2  \n",
       "1  I just found it alone yesterday near my apartm...         2              0  \n",
       "2  Their pregnant mother was dumped by her irresp...         7              3  \n",
       "3  Good guard dog, very alert, active, obedience ...         8              2  \n",
       "4  This handsome yet cute boy is up for adoption....         3              2  "
      ]
     },
     "execution_count": 4,
     "metadata": {},
     "output_type": "execute_result"
    }
   ],
   "source": [
    "dataframe.head()"
   ]
  },
  {
   "cell_type": "code",
   "execution_count": 5,
   "metadata": {},
   "outputs": [
    {
     "data": {
      "text/plain": [
       "Type             object\n",
       "Age               int64\n",
       "Breed1           object\n",
       "Gender           object\n",
       "Color1           object\n",
       "Color2           object\n",
       "MaturitySize     object\n",
       "FurLength        object\n",
       "Vaccinated       object\n",
       "Sterilized       object\n",
       "Health           object\n",
       "Fee               int64\n",
       "Description      object\n",
       "PhotoAmt          int64\n",
       "AdoptionSpeed     int64\n",
       "dtype: object"
      ]
     },
     "execution_count": 5,
     "metadata": {},
     "output_type": "execute_result"
    }
   ],
   "source": [
    "dataframe.dtypes"
   ]
  },
  {
   "cell_type": "code",
   "execution_count": 6,
   "metadata": {},
   "outputs": [
    {
     "data": {
      "text/plain": [
       "2    3153\n",
       "4    3080\n",
       "3    2543\n",
       "1    2432\n",
       "0     329\n",
       "Name: AdoptionSpeed, dtype: int64"
      ]
     },
     "execution_count": 6,
     "metadata": {},
     "output_type": "execute_result"
    }
   ],
   "source": [
    "dataframe['AdoptionSpeed'].value_counts()"
   ]
  },
  {
   "cell_type": "code",
   "execution_count": 7,
   "metadata": {},
   "outputs": [],
   "source": [
    "dataframe['Age'] = dataframe['Age'].astype(float)\n",
    "dataframe['Fee'] = dataframe['Fee'].astype(float)\n",
    "dataframe['PhotoAmt'] = dataframe['PhotoAmt'].astype(float)"
   ]
  },
  {
   "cell_type": "markdown",
   "metadata": {},
   "source": [
    "### Data Preprocessing"
   ]
  },
  {
   "cell_type": "code",
   "execution_count": 8,
   "metadata": {},
   "outputs": [],
   "source": [
    "# Remove listing description for now - To be approached with NLP later\n",
    "dataframe = dataframe.drop(columns=['Description'])"
   ]
  },
  {
   "cell_type": "code",
   "execution_count": 9,
   "metadata": {},
   "outputs": [
    {
     "name": "stdout",
     "output_type": "stream",
     "text": [
      "7383 train examples\n",
      "1846 validation examples\n",
      "2308 test examples\n"
     ]
    }
   ],
   "source": [
    "# Split data into training, validation, test\n",
    "train, test = train_test_split(dataframe, test_size=0.2)\n",
    "train, val = train_test_split(train, test_size=0.2)\n",
    "print(len(train), 'train examples')\n",
    "print(len(val), 'validation examples')\n",
    "print(len(test), 'test examples')"
   ]
  },
  {
   "cell_type": "markdown",
   "metadata": {},
   "source": [
    "Create function that converts each training, validation, and test set dataframe into a tensorflow dataset, then shuffles and batches the data"
   ]
  },
  {
   "cell_type": "code",
   "execution_count": 10,
   "metadata": {},
   "outputs": [],
   "source": [
    "# A utility method to create a tf.data dataset from a Pandas Dataframe\n",
    "def df_to_dataset(dataframe, shuffle=True, batch_size=32):\n",
    "  dataframe = dataframe.copy()\n",
    "  labels = dataframe.pop('AdoptionSpeed')\n",
    "  ds = tf.data.Dataset.from_tensor_slices((dict(dataframe), labels))\n",
    "  if shuffle:\n",
    "    ds = ds.shuffle(buffer_size=len(dataframe))\n",
    "  ds = ds.batch(batch_size)\n",
    "  return ds"
   ]
  },
  {
   "cell_type": "markdown",
   "metadata": {},
   "source": [
    "Use our function to check the format of the data the input pipeline helper function returns by calling it on the training, validation, and test data - use a small batch size to keep the output readable"
   ]
  },
  {
   "cell_type": "code",
   "execution_count": 11,
   "metadata": {},
   "outputs": [],
   "source": [
    "batch_size = 5 # A small batch sized is used for demonstration purposes\n",
    "train_ds = df_to_dataset(train, batch_size=batch_size)\n",
    "val_ds = df_to_dataset(val, shuffle=False, batch_size=batch_size)\n",
    "test_ds = df_to_dataset(test, shuffle=False, batch_size=batch_size)"
   ]
  },
  {
   "cell_type": "markdown",
   "metadata": {},
   "source": [
    "The function returns a dictionary of column names that map to column values from rows in the dataframe"
   ]
  },
  {
   "cell_type": "code",
   "execution_count": 13,
   "metadata": {},
   "outputs": [
    {
     "name": "stdout",
     "output_type": "stream",
     "text": [
      "Every feature: ['Type', 'Age', 'Breed1', 'Gender', 'Color1', 'Color2', 'MaturitySize', 'FurLength', 'Vaccinated', 'Sterilized', 'Health', 'Fee', 'PhotoAmt']\n",
      "A batch of ages: tf.Tensor([ 3.  3. 24.  1.  2.], shape=(5,), dtype=float64)\n",
      "A batch of targets: tf.Tensor([2 3 4 2 1], shape=(5,), dtype=int64)\n"
     ]
    }
   ],
   "source": [
    "for feature_batch, label_batch in train_ds.take(1):\n",
    "  print('Every feature:', list(feature_batch.keys()))\n",
    "  print('A batch of ages:', feature_batch['Age'])\n",
    "  print('A batch of targets:', label_batch )"
   ]
  },
  {
   "cell_type": "markdown",
   "metadata": {},
   "source": [
    "### Demonstrate several types of feature columns\n",
    "TensorFlow provides many types of feature columns. In this section, we will create several types of feature columns, and demonstrate how they transform a column from the dataframe."
   ]
  },
  {
   "cell_type": "code",
   "execution_count": 14,
   "metadata": {},
   "outputs": [],
   "source": [
    "# We will use this batch to demonstrate several types of feature columns\n",
    "example_batch = next(iter(train_ds))[0]"
   ]
  },
  {
   "cell_type": "code",
   "execution_count": 16,
   "metadata": {},
   "outputs": [],
   "source": [
    "# A utility method to create a feature column and to transform a batch of data\n",
    "def demo(feature_column):\n",
    "  feature_layer = layers.DenseFeatures(feature_column)\n",
    "  print(feature_layer(example_batch).numpy())"
   ]
  },
  {
   "cell_type": "markdown",
   "metadata": {},
   "source": [
    "### Numeric Columns\n",
    "The output of a feature column becomes the input to the model (using the demo function defined above, we will be able to see exactly how each column from the dataframe is transformed). A numeric column is the simplest type of column. It is used to represent real valued features. When using this column, your model will receive the column value from the dataframe unchanged."
   ]
  },
  {
   "cell_type": "code",
   "execution_count": 17,
   "metadata": {},
   "outputs": [
    {
     "name": "stdout",
     "output_type": "stream",
     "text": [
      "[[5.]\n",
      " [3.]\n",
      " [2.]\n",
      " [3.]\n",
      " [1.]]\n"
     ]
    }
   ],
   "source": [
    "photo_count = feature_column.numeric_column('PhotoAmt')\n",
    "demo(photo_count)"
   ]
  },
  {
   "cell_type": "markdown",
   "metadata": {},
   "source": [
    "### Binning Numeric Columns & Converting to Categorical\n",
    "Often, you don't want to feed a number directly into the model, but instead split its value into different categories based on numerical ranges. Consider raw data that represents a person's age. Instead of representing age as a numeric column, we could split the age into several buckets using a bucketized column. Notice the one-hot values below describe which age range each row matches."
   ]
  },
  {
   "cell_type": "code",
   "execution_count": 18,
   "metadata": {},
   "outputs": [
    {
     "name": "stdout",
     "output_type": "stream",
     "text": [
      "[[0. 1. 0. 0.]\n",
      " [0. 1. 0. 0.]\n",
      " [0. 0. 1. 0.]\n",
      " [0. 1. 0. 0.]\n",
      " [0. 0. 0. 1.]]\n"
     ]
    }
   ],
   "source": [
    "age = feature_column.numeric_column('Age')\n",
    "age_buckets = feature_column.bucketized_column(age, boundaries=[1, 3, 5])\n",
    "demo(age_buckets)"
   ]
  },
  {
   "cell_type": "markdown",
   "metadata": {},
   "source": [
    "### Categorical Columns\n",
    "In this dataset, Type is represented as a string (e.g. 'Dog', or 'Cat'). We cannot feed strings directly to a model. Instead, we must first map them to numeric values. The categorical vocabulary columns provide a way to represent strings as a one-hot encoded vector (much like you have seen above with age buckets). The vocabulary can be passed as a list using categorical_column_with_vocabulary_list, or loaded from a file using categorical_column_with_vocabulary_file."
   ]
  },
  {
   "cell_type": "code",
   "execution_count": 19,
   "metadata": {},
   "outputs": [
    {
     "name": "stdout",
     "output_type": "stream",
     "text": [
      "[[1. 0.]\n",
      " [1. 0.]\n",
      " [0. 1.]\n",
      " [0. 1.]\n",
      " [0. 1.]]\n"
     ]
    }
   ],
   "source": [
    "animal_type = feature_column.categorical_column_with_vocabulary_list(\n",
    "      'Type', ['Cat', 'Dog'])\n",
    "\n",
    "animal_type_one_hot = feature_column.indicator_column(animal_type)\n",
    "demo(animal_type_one_hot)"
   ]
  },
  {
   "cell_type": "markdown",
   "metadata": {},
   "source": [
    "### Embedding Columns\n",
    "Suppose instead of having just a few possible strings, we have thousands (or more) values per category. For a number of reasons, as the number of categories grow large, it becomes infeasible to train a neural network using one-hot encodings. We can use an embedding column to overcome this limitation. Instead of representing the data as a one-hot vector of many dimensions, an embedding column represents that data as a lower-dimensional, dense vector in which each cell can contain any number, not just 0 or 1. The size of the embedding (8, in the example below) is a parameter that must be tuned.\n",
    "\n",
    "Using an embedding column is best when a categorical column has many possible values. We are using one here for demonstration purposes, so you have a complete example you can modify for a different dataset in the future."
   ]
  },
  {
   "cell_type": "code",
   "execution_count": 20,
   "metadata": {},
   "outputs": [
    {
     "name": "stdout",
     "output_type": "stream",
     "text": [
      "[[ 0.13095444  0.3269618   0.06652604  0.33797476  0.4567519  -0.12992768\n",
      "  -0.32599676  0.41565028]\n",
      " [ 0.13095444  0.3269618   0.06652604  0.33797476  0.4567519  -0.12992768\n",
      "  -0.32599676  0.41565028]\n",
      " [-0.43639672 -0.68780476 -0.3431891  -0.44240505 -0.43225065  0.5802698\n",
      "   0.3156668  -0.02734345]\n",
      " [-0.15524973  0.2837961  -0.32624674 -0.00208446 -0.12058996  0.1886612\n",
      "  -0.6025837  -0.3836936 ]\n",
      " [-0.43639672 -0.68780476 -0.3431891  -0.44240505 -0.43225065  0.5802698\n",
      "   0.3156668  -0.02734345]]\n"
     ]
    }
   ],
   "source": [
    "# Notice the input to the embedding column is the categorical column we previously created\n",
    "breed1 = feature_column.categorical_column_with_vocabulary_list(\n",
    "      'Breed1', dataframe.Breed1.unique())\n",
    "\n",
    "breed1_embedding = feature_column.embedding_column(breed1, dimension=8)\n",
    "demo(breed1_embedding)"
   ]
  },
  {
   "cell_type": "markdown",
   "metadata": {},
   "source": [
    "### Hashed Feature Columns\n",
    "Another way to represent a categorical column with a large number of values is to use a ```categorical_column_with_hash_bucket```. This feature column calculates a hash value of the input, then selects one of the ```hash_bucket_size``` buckets to encode a string. When using this column, you do not need to provide the vocabulary, and you can choose to make the number of hash_buckets significantly smaller than the number of actual categories to save space.\n",
    "\n",
    "An important downside of this technique is that there may be collisions in which different strings are mapped to the same bucket. In practice, this can work well for some datasets regardless."
   ]
  },
  {
   "cell_type": "code",
   "execution_count": 21,
   "metadata": {},
   "outputs": [
    {
     "name": "stdout",
     "output_type": "stream",
     "text": [
      "[[0. 0. 0. 0. 0. 0. 0. 0. 0. 1.]\n",
      " [0. 0. 0. 0. 0. 0. 0. 0. 0. 1.]\n",
      " [0. 0. 0. 0. 0. 0. 0. 1. 0. 0.]\n",
      " [0. 1. 0. 0. 0. 0. 0. 0. 0. 0.]\n",
      " [0. 0. 0. 0. 0. 0. 0. 1. 0. 0.]]\n"
     ]
    }
   ],
   "source": [
    "breed1_hashed = feature_column.categorical_column_with_hash_bucket(\n",
    "      'Breed1', hash_bucket_size=10)\n",
    "demo(feature_column.indicator_column(breed1_hashed))"
   ]
  },
  {
   "cell_type": "markdown",
   "metadata": {},
   "source": [
    "### Crossed Feature Columns\n",
    "Combining features into a single feature, better known as feature crosses, enables a model to learn separate weights for each combination of features. Here, we will create a new feature that is the cross of Age and Type. Note that crossed_column does not build the full table of all possible combinations (which could be very large). Instead, it is backed by a hashed_column, so you can choose how large the table is."
   ]
  },
  {
   "cell_type": "code",
   "execution_count": 22,
   "metadata": {},
   "outputs": [
    {
     "name": "stdout",
     "output_type": "stream",
     "text": [
      "[[0. 0. 0. 1. 0. 0. 0. 0. 0. 0.]\n",
      " [0. 0. 0. 1. 0. 0. 0. 0. 0. 0.]\n",
      " [0. 0. 0. 0. 0. 0. 1. 0. 0. 0.]\n",
      " [0. 1. 0. 0. 0. 0. 0. 0. 0. 0.]\n",
      " [0. 0. 0. 0. 0. 0. 0. 0. 1. 0.]]\n"
     ]
    }
   ],
   "source": [
    "crossed_feature = feature_column.crossed_column([age_buckets, animal_type], hash_bucket_size=10)\n",
    "demo(feature_column.indicator_column(crossed_feature))"
   ]
  },
  {
   "cell_type": "markdown",
   "metadata": {},
   "source": [
    "### Feature Selection"
   ]
  },
  {
   "cell_type": "code",
   "execution_count": 26,
   "metadata": {},
   "outputs": [
    {
     "data": {
      "text/plain": [
       "{'PhotoAmt': {'mean': 3.634159555736151, 'std': 3.1428740244518476},\n",
       " 'Fee': {'mean': 24.29527292428552, 'std': 80.78659142942719},\n",
       " 'Age': {'mean': 11.81511580658269, 'std': 19.620072745746032}}"
      ]
     },
     "execution_count": 26,
     "metadata": {},
     "output_type": "execute_result"
    }
   ],
   "source": [
    "def get_normalization_parameters(traindf, features):\n",
    "  def _z_score_params(column):\n",
    "    mean = traindf[column].mean()\n",
    "    std = traindf[column].std()\n",
    "    return {'mean': mean, 'std': std}\n",
    "  \n",
    "  normalization_parameters = {}\n",
    "  for column in features:\n",
    "    normalization_parameters[column] = _z_score_params(column)\n",
    "  return normalization_parameters\n",
    "\n",
    "num_cols = ['PhotoAmt', 'Fee', 'Age']\n",
    "\n",
    "normalization_parameters = get_normalization_parameters(train,\n",
    "                                                        num_cols)\n",
    "normalization_parameters"
   ]
  },
  {
   "cell_type": "code",
   "execution_count": 27,
   "metadata": {
    "scrolled": true
   },
   "outputs": [
    {
     "name": "stdout",
     "output_type": "stream",
     "text": [
      "[NumericColumn(key='PhotoAmt', shape=(1,), default_value=None, dtype=tf.float32, normalizer_fn=<function create_feature_cols.<locals>.normalize_column at 0x7fc0f9a138c8>)]\n",
      "[NumericColumn(key='PhotoAmt', shape=(1,), default_value=None, dtype=tf.float32, normalizer_fn=<function create_feature_cols.<locals>.normalize_column at 0x7fc0f9a138c8>), NumericColumn(key='Fee', shape=(1,), default_value=None, dtype=tf.float32, normalizer_fn=<function create_feature_cols.<locals>.normalize_column at 0x7fc0f9a9d1e0>)]\n",
      "[NumericColumn(key='PhotoAmt', shape=(1,), default_value=None, dtype=tf.float32, normalizer_fn=<function create_feature_cols.<locals>.normalize_column at 0x7fc0f9a138c8>), NumericColumn(key='Fee', shape=(1,), default_value=None, dtype=tf.float32, normalizer_fn=<function create_feature_cols.<locals>.normalize_column at 0x7fc0f9a9d1e0>), NumericColumn(key='Age', shape=(1,), default_value=None, dtype=tf.float32, normalizer_fn=<function create_feature_cols.<locals>.normalize_column at 0x7fc0f9a9d378>)]\n"
     ]
    }
   ],
   "source": [
    "def _numeric_column_normalized(column_name, normalizer_fn):\n",
    "  return tf.feature_column.numeric_column(column_name,\n",
    "                                          normalizer_fn=normalizer_fn)\n",
    "\n",
    "\n",
    "def create_feature_cols(features, use_normalization):\n",
    "    normalized_feature_columns = []\n",
    "    for column_name in features:\n",
    "        if use_normalization:\n",
    "            column_params = normalization_parameters[column_name]\n",
    "            mean = column_params['mean']\n",
    "            std = column_params['std']\n",
    "            def normalize_column(col):\n",
    "                return (col - mean)/std\n",
    "            normalizer_fn = normalize_column\n",
    "        else:\n",
    "            normalizer_fn = None\n",
    "            \n",
    "        normalized_feature_columns.append(_numeric_column_normalized(column_name,\n",
    "                                                              normalizer_fn))\n",
    "        print(normalized_feature_columns)\n",
    "    return normalized_feature_columns\n",
    "\n",
    "feature_columns = create_feature_cols(num_cols, True)"
   ]
  },
  {
   "cell_type": "code",
   "execution_count": 28,
   "metadata": {},
   "outputs": [],
   "source": [
    "# bucketized cols\n",
    "age = feature_column.numeric_column('Age')\n",
    "age_buckets = feature_column.bucketized_column(age, boundaries=[1, 2, 3, 4, 5])\n",
    "feature_columns.append(age_buckets)"
   ]
  },
  {
   "cell_type": "code",
   "execution_count": 29,
   "metadata": {},
   "outputs": [],
   "source": [
    "# indicator_columns\n",
    "indicator_column_names = ['Type', 'Color1', 'Color2', 'Gender', 'MaturitySize',\n",
    "                          'FurLength', 'Vaccinated', 'Sterilized', 'Health']\n",
    "for col_name in indicator_column_names:\n",
    "  categorical_column = feature_column.categorical_column_with_vocabulary_list(\n",
    "      col_name, dataframe[col_name].unique())\n",
    "  indicator_column = feature_column.indicator_column(categorical_column)\n",
    "  feature_columns.append(indicator_column)"
   ]
  },
  {
   "cell_type": "code",
   "execution_count": 31,
   "metadata": {},
   "outputs": [],
   "source": [
    "# embedding columns\n",
    "breed1 = feature_column.categorical_column_with_vocabulary_list(\n",
    "      'Breed1', dataframe.Breed1.unique())\n",
    "breed1_embedding = feature_column.embedding_column(breed1, dimension=8)\n",
    "feature_columns.append(breed1_embedding)"
   ]
  },
  {
   "cell_type": "code",
   "execution_count": 32,
   "metadata": {},
   "outputs": [
    {
     "data": {
      "text/plain": [
       "EmbeddingColumn(categorical_column=VocabularyListCategoricalColumn(key='Breed1', vocabulary_list=('Tabby', 'Domestic Medium Hair', 'Mixed Breed', 'Domestic Short Hair', 'Domestic Long Hair', 'Terrier', 'Persian', 'Rottweiler', 'Jack Russell Terrier', 'Shih Tzu', 'Labrador Retriever', 'Silky Terrier', 'Bombay', 'Husky', 'Schnauzer', 'Golden Retriever', 'Siberian Husky', 'Collie', 'German Shepherd Dog', 'Siamese', 'Calico', 'American Staffordshire Terrier', 'Turkish Van', 'Doberman Pinscher', 'Oriental Short Hair', 'Beagle', 'Ragdoll', 'Cocker Spaniel', 'Poodle', 'Black Labrador Retriever', 'Bengal', 'Shar Pei', 'Spitz', 'Birman', 'Belgian Shepherd Malinois', 'American Shorthair', 'Belgian Shepherd Laekenois', '0', 'Jack Russell Terrier (Parson Russell Terrier)', 'Shepherd', 'Corgi', 'Pit Bull Terrier', 'Oriental Tabby', 'Miniature Pinscher', 'Manx', 'Boxer', 'Dachshund', 'Chihuahua', 'Snowshoe', 'Rat Terrier', 'Tiger', 'Silver', 'Maine Coon', 'German Pinscher', 'Russian Blue', 'Tuxedo', 'Lhasa Apso', 'Pomeranian', 'Whippet', 'English Bulldog', 'Bull Terrier', 'Yellow Labrador Retriever', 'Dalmatian', 'West Highland White Terrier Westie', 'Pekingese', 'Wheaten Terrier', 'Havana', 'Egyptian Mau', 'Tortoiseshell', 'American Curl', 'British Shorthair', 'Cavalier King Charles Spaniel', 'Munsterlander', 'Singapura', 'Turkish Angora', 'Maltese', 'Applehead Siamese', 'Oriental Long Hair', 'Standard Poodle', 'Samoyed', 'Mountain Dog', 'Coonhound', 'Japanese Bobtail', 'Abyssinian', 'Bobtail', 'Glen of Imaal Terrier', 'Yorkshire Terrier Yorkie', 'English Cocker Spaniel', 'Siberian', 'Border Collie', 'Field Spaniel', 'Australian Terrier', 'Burmese', 'Pug', 'Toy Fox Terrier', 'French Bulldog', 'Norwegian Forest Cat', 'Boston Terrier', 'Australian Kelpie', 'Basset Hound', 'Belgian Shepherd Dog Sheepdog', 'Bullmastiff', 'Korat', 'Hound', 'Great Dane', 'American Wirehair', 'White German Shepherd', 'Burmilla', 'Ocicat', 'Saint Bernard', 'Javanese', 'Australian Shepherd', 'Retriever', 'Black Mouth Cur', 'Old English Sheepdog', 'Weimaraner', 'Chausie', 'Pointer', 'Staffordshire Bull Terrier', 'Dilute Tortoiseshell', 'Greyhound', 'Shetland Sheepdog Sheltie', 'Wirehaired Terrier', 'American Water Spaniel', 'Irish Setter', 'Flat-coated Retriever', 'Irish Wolfhound', 'Tonkinese', 'Nebelung', 'Irish Terrier', 'Bedlington Terrier', 'Cymric', 'American Bulldog', 'Mastiff', 'Akita', 'Basenji', 'Somali', 'English Springer Spaniel', 'Chow Chow', 'Shiba Inu', 'Rhodesian Ridgeback', 'Papillon', 'Setter', 'Chartreux', 'Dilute Calico', 'Fox Terrier', 'Balinese', 'Extra-Toes Cat (Hemingway Polydactyl)', 'English Pointer', 'Sphynx (hairless cat)', 'Lowchen', 'Kai Dog', 'German Spitz', 'Exotic Shorthair', 'Welsh Corgi', 'Himalayan', 'Manchester Terrier', 'Spaniel', 'Swedish Vallhund', 'Chinese Crested Dog', 'Cattle Dog', 'Torbie', 'Ragamuffin', 'Lancashire Heeler', 'Foxhound', 'Dutch Shepherd'), dtype=tf.string, default_value=-1, num_oov_buckets=0), dimension=8, combiner='mean', initializer=<tensorflow.python.ops.init_ops.TruncatedNormal object at 0x7fc0e9075e10>, ckpt_to_load_from=None, tensor_name_in_ckpt=None, max_norm=None, trainable=True, use_safe_embedding_lookup=True)"
      ]
     },
     "execution_count": 32,
     "metadata": {},
     "output_type": "execute_result"
    }
   ],
   "source": [
    "breed1_embedding"
   ]
  },
  {
   "cell_type": "code",
   "execution_count": 33,
   "metadata": {},
   "outputs": [],
   "source": [
    "# crossed columns\n",
    "age_type_feature = feature_column.crossed_column([age_buckets, animal_type], hash_bucket_size=100)\n",
    "feature_columns.append(feature_column.indicator_column(age_type_feature))"
   ]
  },
  {
   "cell_type": "code",
   "execution_count": 34,
   "metadata": {
    "scrolled": true
   },
   "outputs": [
    {
     "data": {
      "text/plain": [
       "[NumericColumn(key='PhotoAmt', shape=(1,), default_value=None, dtype=tf.float32, normalizer_fn=<function create_feature_cols.<locals>.normalize_column at 0x7fc0f9a138c8>),\n",
       " NumericColumn(key='Fee', shape=(1,), default_value=None, dtype=tf.float32, normalizer_fn=<function create_feature_cols.<locals>.normalize_column at 0x7fc0f9a9d1e0>),\n",
       " NumericColumn(key='Age', shape=(1,), default_value=None, dtype=tf.float32, normalizer_fn=<function create_feature_cols.<locals>.normalize_column at 0x7fc0f9a9d378>),\n",
       " BucketizedColumn(source_column=NumericColumn(key='Age', shape=(1,), default_value=None, dtype=tf.float32, normalizer_fn=None), boundaries=(1, 2, 3, 4, 5)),\n",
       " IndicatorColumn(categorical_column=VocabularyListCategoricalColumn(key='Type', vocabulary_list=('Cat', 'Dog'), dtype=tf.string, default_value=-1, num_oov_buckets=0)),\n",
       " IndicatorColumn(categorical_column=VocabularyListCategoricalColumn(key='Color1', vocabulary_list=('Black', 'Brown', 'Cream', 'Gray', 'Golden', 'White', 'Yellow'), dtype=tf.string, default_value=-1, num_oov_buckets=0)),\n",
       " IndicatorColumn(categorical_column=VocabularyListCategoricalColumn(key='Color2', vocabulary_list=('White', 'Brown', 'No Color', 'Gray', 'Cream', 'Golden', 'Yellow'), dtype=tf.string, default_value=-1, num_oov_buckets=0)),\n",
       " IndicatorColumn(categorical_column=VocabularyListCategoricalColumn(key='Gender', vocabulary_list=('Male', 'Female'), dtype=tf.string, default_value=-1, num_oov_buckets=0)),\n",
       " IndicatorColumn(categorical_column=VocabularyListCategoricalColumn(key='MaturitySize', vocabulary_list=('Small', 'Medium', 'Large'), dtype=tf.string, default_value=-1, num_oov_buckets=0)),\n",
       " IndicatorColumn(categorical_column=VocabularyListCategoricalColumn(key='FurLength', vocabulary_list=('Short', 'Medium', 'Long'), dtype=tf.string, default_value=-1, num_oov_buckets=0)),\n",
       " IndicatorColumn(categorical_column=VocabularyListCategoricalColumn(key='Vaccinated', vocabulary_list=('No', 'Not Sure', 'Yes'), dtype=tf.string, default_value=-1, num_oov_buckets=0)),\n",
       " IndicatorColumn(categorical_column=VocabularyListCategoricalColumn(key='Sterilized', vocabulary_list=('No', 'Not Sure', 'Yes'), dtype=tf.string, default_value=-1, num_oov_buckets=0)),\n",
       " IndicatorColumn(categorical_column=VocabularyListCategoricalColumn(key='Health', vocabulary_list=('Healthy', 'Minor Injury', 'Serious Injury'), dtype=tf.string, default_value=-1, num_oov_buckets=0)),\n",
       " EmbeddingColumn(categorical_column=VocabularyListCategoricalColumn(key='Breed1', vocabulary_list=('Tabby', 'Domestic Medium Hair', 'Mixed Breed', 'Domestic Short Hair', 'Domestic Long Hair', 'Terrier', 'Persian', 'Rottweiler', 'Jack Russell Terrier', 'Shih Tzu', 'Labrador Retriever', 'Silky Terrier', 'Bombay', 'Husky', 'Schnauzer', 'Golden Retriever', 'Siberian Husky', 'Collie', 'German Shepherd Dog', 'Siamese', 'Calico', 'American Staffordshire Terrier', 'Turkish Van', 'Doberman Pinscher', 'Oriental Short Hair', 'Beagle', 'Ragdoll', 'Cocker Spaniel', 'Poodle', 'Black Labrador Retriever', 'Bengal', 'Shar Pei', 'Spitz', 'Birman', 'Belgian Shepherd Malinois', 'American Shorthair', 'Belgian Shepherd Laekenois', '0', 'Jack Russell Terrier (Parson Russell Terrier)', 'Shepherd', 'Corgi', 'Pit Bull Terrier', 'Oriental Tabby', 'Miniature Pinscher', 'Manx', 'Boxer', 'Dachshund', 'Chihuahua', 'Snowshoe', 'Rat Terrier', 'Tiger', 'Silver', 'Maine Coon', 'German Pinscher', 'Russian Blue', 'Tuxedo', 'Lhasa Apso', 'Pomeranian', 'Whippet', 'English Bulldog', 'Bull Terrier', 'Yellow Labrador Retriever', 'Dalmatian', 'West Highland White Terrier Westie', 'Pekingese', 'Wheaten Terrier', 'Havana', 'Egyptian Mau', 'Tortoiseshell', 'American Curl', 'British Shorthair', 'Cavalier King Charles Spaniel', 'Munsterlander', 'Singapura', 'Turkish Angora', 'Maltese', 'Applehead Siamese', 'Oriental Long Hair', 'Standard Poodle', 'Samoyed', 'Mountain Dog', 'Coonhound', 'Japanese Bobtail', 'Abyssinian', 'Bobtail', 'Glen of Imaal Terrier', 'Yorkshire Terrier Yorkie', 'English Cocker Spaniel', 'Siberian', 'Border Collie', 'Field Spaniel', 'Australian Terrier', 'Burmese', 'Pug', 'Toy Fox Terrier', 'French Bulldog', 'Norwegian Forest Cat', 'Boston Terrier', 'Australian Kelpie', 'Basset Hound', 'Belgian Shepherd Dog Sheepdog', 'Bullmastiff', 'Korat', 'Hound', 'Great Dane', 'American Wirehair', 'White German Shepherd', 'Burmilla', 'Ocicat', 'Saint Bernard', 'Javanese', 'Australian Shepherd', 'Retriever', 'Black Mouth Cur', 'Old English Sheepdog', 'Weimaraner', 'Chausie', 'Pointer', 'Staffordshire Bull Terrier', 'Dilute Tortoiseshell', 'Greyhound', 'Shetland Sheepdog Sheltie', 'Wirehaired Terrier', 'American Water Spaniel', 'Irish Setter', 'Flat-coated Retriever', 'Irish Wolfhound', 'Tonkinese', 'Nebelung', 'Irish Terrier', 'Bedlington Terrier', 'Cymric', 'American Bulldog', 'Mastiff', 'Akita', 'Basenji', 'Somali', 'English Springer Spaniel', 'Chow Chow', 'Shiba Inu', 'Rhodesian Ridgeback', 'Papillon', 'Setter', 'Chartreux', 'Dilute Calico', 'Fox Terrier', 'Balinese', 'Extra-Toes Cat (Hemingway Polydactyl)', 'English Pointer', 'Sphynx (hairless cat)', 'Lowchen', 'Kai Dog', 'German Spitz', 'Exotic Shorthair', 'Welsh Corgi', 'Himalayan', 'Manchester Terrier', 'Spaniel', 'Swedish Vallhund', 'Chinese Crested Dog', 'Cattle Dog', 'Torbie', 'Ragamuffin', 'Lancashire Heeler', 'Foxhound', 'Dutch Shepherd'), dtype=tf.string, default_value=-1, num_oov_buckets=0), dimension=8, combiner='mean', initializer=<tensorflow.python.ops.init_ops.TruncatedNormal object at 0x7fc0e9075e10>, ckpt_to_load_from=None, tensor_name_in_ckpt=None, max_norm=None, trainable=True, use_safe_embedding_lookup=True),\n",
       " IndicatorColumn(categorical_column=CrossedColumn(keys=(BucketizedColumn(source_column=NumericColumn(key='Age', shape=(1,), default_value=None, dtype=tf.float32, normalizer_fn=None), boundaries=(1, 2, 3, 4, 5)), VocabularyListCategoricalColumn(key='Type', vocabulary_list=('Cat', 'Dog'), dtype=tf.string, default_value=-1, num_oov_buckets=0)), hash_bucket_size=100, hash_key=None))]"
      ]
     },
     "execution_count": 34,
     "metadata": {},
     "output_type": "execute_result"
    }
   ],
   "source": [
    "feature_columns"
   ]
  },
  {
   "cell_type": "markdown",
   "metadata": {},
   "source": [
    "### Create A Feature Layer\n",
    "Use ```DenseFeatures``` layer to input our feature columns to our Keras model"
   ]
  },
  {
   "cell_type": "code",
   "execution_count": 35,
   "metadata": {},
   "outputs": [],
   "source": [
    "feature_layer = tf.keras.layers.DenseFeatures(feature_columns)"
   ]
  },
  {
   "cell_type": "markdown",
   "metadata": {},
   "source": [
    "Previous use of smaller batch size was intended for demonstration purposes only. We are now creating a new pipeline with a larger batch size for model training purposes. "
   ]
  },
  {
   "cell_type": "code",
   "execution_count": 36,
   "metadata": {},
   "outputs": [],
   "source": [
    "batch_size = 32\n",
    "train_ds = df_to_dataset(train, batch_size=batch_size)\n",
    "val_ds = df_to_dataset(val, shuffle=False, batch_size=batch_size)\n",
    "test_ds = df_to_dataset(test, shuffle=False, batch_size=batch_size)"
   ]
  },
  {
   "cell_type": "markdown",
   "metadata": {},
   "source": [
    "### Create, Compile, and Train\n",
    "Use a Learning Rate Scheduler to increase the learning rate by 10 to the power of 50 epochs / 20, starting at 0.001. The performance of the model will be tracked as the learning rate increases within ```find_lr_history```."
   ]
  },
  {
   "cell_type": "code",
   "execution_count": 37,
   "metadata": {
    "scrolled": true
   },
   "outputs": [
    {
     "name": "stdout",
     "output_type": "stream",
     "text": [
      "Epoch 1/50\n",
      "WARNING:tensorflow:Layers in a Sequential model should only have a single input tensor. Received: inputs={'Type': <tf.Tensor 'IteratorGetNext:11' shape=(None,) dtype=string>, 'Age': <tf.Tensor 'IteratorGetNext:0' shape=(None,) dtype=float64>, 'Breed1': <tf.Tensor 'IteratorGetNext:1' shape=(None,) dtype=string>, 'Gender': <tf.Tensor 'IteratorGetNext:6' shape=(None,) dtype=string>, 'Color1': <tf.Tensor 'IteratorGetNext:2' shape=(None,) dtype=string>, 'Color2': <tf.Tensor 'IteratorGetNext:3' shape=(None,) dtype=string>, 'MaturitySize': <tf.Tensor 'IteratorGetNext:8' shape=(None,) dtype=string>, 'FurLength': <tf.Tensor 'IteratorGetNext:5' shape=(None,) dtype=string>, 'Vaccinated': <tf.Tensor 'IteratorGetNext:12' shape=(None,) dtype=string>, 'Sterilized': <tf.Tensor 'IteratorGetNext:10' shape=(None,) dtype=string>, 'Health': <tf.Tensor 'IteratorGetNext:7' shape=(None,) dtype=string>, 'Fee': <tf.Tensor 'IteratorGetNext:4' shape=(None,) dtype=float64>, 'PhotoAmt': <tf.Tensor 'IteratorGetNext:9' shape=(None,) dtype=float64>}. Consider rewriting this model with the Functional API.\n",
      "WARNING:tensorflow:Layers in a Sequential model should only have a single input tensor. Received: inputs={'Type': <tf.Tensor 'IteratorGetNext:11' shape=(None,) dtype=string>, 'Age': <tf.Tensor 'IteratorGetNext:0' shape=(None,) dtype=float64>, 'Breed1': <tf.Tensor 'IteratorGetNext:1' shape=(None,) dtype=string>, 'Gender': <tf.Tensor 'IteratorGetNext:6' shape=(None,) dtype=string>, 'Color1': <tf.Tensor 'IteratorGetNext:2' shape=(None,) dtype=string>, 'Color2': <tf.Tensor 'IteratorGetNext:3' shape=(None,) dtype=string>, 'MaturitySize': <tf.Tensor 'IteratorGetNext:8' shape=(None,) dtype=string>, 'FurLength': <tf.Tensor 'IteratorGetNext:5' shape=(None,) dtype=string>, 'Vaccinated': <tf.Tensor 'IteratorGetNext:12' shape=(None,) dtype=string>, 'Sterilized': <tf.Tensor 'IteratorGetNext:10' shape=(None,) dtype=string>, 'Health': <tf.Tensor 'IteratorGetNext:7' shape=(None,) dtype=string>, 'Fee': <tf.Tensor 'IteratorGetNext:4' shape=(None,) dtype=float64>, 'PhotoAmt': <tf.Tensor 'IteratorGetNext:9' shape=(None,) dtype=float64>}. Consider rewriting this model with the Functional API.\n",
      "228/231 [============================>.] - ETA: 0s - loss: 1.4320 - accuracy: 0.3446WARNING:tensorflow:Layers in a Sequential model should only have a single input tensor. Received: inputs={'Type': <tf.Tensor 'IteratorGetNext:11' shape=(None,) dtype=string>, 'Age': <tf.Tensor 'IteratorGetNext:0' shape=(None,) dtype=float64>, 'Breed1': <tf.Tensor 'IteratorGetNext:1' shape=(None,) dtype=string>, 'Gender': <tf.Tensor 'IteratorGetNext:6' shape=(None,) dtype=string>, 'Color1': <tf.Tensor 'IteratorGetNext:2' shape=(None,) dtype=string>, 'Color2': <tf.Tensor 'IteratorGetNext:3' shape=(None,) dtype=string>, 'MaturitySize': <tf.Tensor 'IteratorGetNext:8' shape=(None,) dtype=string>, 'FurLength': <tf.Tensor 'IteratorGetNext:5' shape=(None,) dtype=string>, 'Vaccinated': <tf.Tensor 'IteratorGetNext:12' shape=(None,) dtype=string>, 'Sterilized': <tf.Tensor 'IteratorGetNext:10' shape=(None,) dtype=string>, 'Health': <tf.Tensor 'IteratorGetNext:7' shape=(None,) dtype=string>, 'Fee': <tf.Tensor 'IteratorGetNext:4' shape=(None,) dtype=float64>, 'PhotoAmt': <tf.Tensor 'IteratorGetNext:9' shape=(None,) dtype=float64>}. Consider rewriting this model with the Functional API.\n",
      "231/231 [==============================] - 2s 4ms/step - loss: 1.4311 - accuracy: 0.3454 - val_loss: 1.3813 - val_accuracy: 0.3754 - lr: 0.0010\n",
      "Epoch 2/50\n",
      "231/231 [==============================] - 1s 2ms/step - loss: 1.3765 - accuracy: 0.3874 - val_loss: 1.3719 - val_accuracy: 0.3830 - lr: 0.0011\n",
      "Epoch 3/50\n",
      "231/231 [==============================] - 1s 2ms/step - loss: 1.3508 - accuracy: 0.3973 - val_loss: 1.3729 - val_accuracy: 0.3814 - lr: 0.0013\n",
      "Epoch 4/50\n",
      "231/231 [==============================] - 1s 2ms/step - loss: 1.3335 - accuracy: 0.4118 - val_loss: 1.3716 - val_accuracy: 0.3743 - lr: 0.0014\n",
      "Epoch 5/50\n",
      "231/231 [==============================] - 1s 2ms/step - loss: 1.3189 - accuracy: 0.4177 - val_loss: 1.3723 - val_accuracy: 0.3722 - lr: 0.0016\n",
      "Epoch 6/50\n",
      "231/231 [==============================] - 0s 2ms/step - loss: 1.3000 - accuracy: 0.4295 - val_loss: 1.3817 - val_accuracy: 0.3667 - lr: 0.0018\n",
      "Epoch 7/50\n",
      "231/231 [==============================] - 0s 2ms/step - loss: 1.2897 - accuracy: 0.4397 - val_loss: 1.3805 - val_accuracy: 0.3814 - lr: 0.0020\n",
      "Epoch 8/50\n",
      "231/231 [==============================] - 1s 2ms/step - loss: 1.2704 - accuracy: 0.4479 - val_loss: 1.4148 - val_accuracy: 0.3532 - lr: 0.0022\n",
      "Epoch 9/50\n",
      "231/231 [==============================] - 0s 2ms/step - loss: 1.2576 - accuracy: 0.4592 - val_loss: 1.4283 - val_accuracy: 0.3657 - lr: 0.0025\n",
      "Epoch 10/50\n",
      "231/231 [==============================] - 0s 2ms/step - loss: 1.2381 - accuracy: 0.4724 - val_loss: 1.4355 - val_accuracy: 0.3694 - lr: 0.0028\n",
      "Epoch 11/50\n",
      "231/231 [==============================] - 0s 2ms/step - loss: 1.2232 - accuracy: 0.4741 - val_loss: 1.4852 - val_accuracy: 0.3581 - lr: 0.0032\n",
      "Epoch 12/50\n",
      "231/231 [==============================] - 1s 2ms/step - loss: 1.2059 - accuracy: 0.4842 - val_loss: 1.4512 - val_accuracy: 0.3532 - lr: 0.0035\n",
      "Epoch 13/50\n",
      "231/231 [==============================] - 1s 2ms/step - loss: 1.1890 - accuracy: 0.4907 - val_loss: 1.4973 - val_accuracy: 0.3543 - lr: 0.0040\n",
      "Epoch 14/50\n",
      "231/231 [==============================] - 1s 2ms/step - loss: 1.1763 - accuracy: 0.4941 - val_loss: 1.5068 - val_accuracy: 0.3505 - lr: 0.0045\n",
      "Epoch 15/50\n",
      "231/231 [==============================] - 1s 2ms/step - loss: 1.1610 - accuracy: 0.5029 - val_loss: 1.5316 - val_accuracy: 0.3667 - lr: 0.0050\n",
      "Epoch 16/50\n",
      "231/231 [==============================] - 1s 2ms/step - loss: 1.1442 - accuracy: 0.5047 - val_loss: 1.5758 - val_accuracy: 0.3602 - lr: 0.0056\n",
      "Epoch 17/50\n",
      "231/231 [==============================] - 0s 2ms/step - loss: 1.1430 - accuracy: 0.5062 - val_loss: 1.5834 - val_accuracy: 0.3597 - lr: 0.0063\n",
      "Epoch 18/50\n",
      "231/231 [==============================] - 0s 2ms/step - loss: 1.1275 - accuracy: 0.5150 - val_loss: 1.6337 - val_accuracy: 0.3489 - lr: 0.0071\n",
      "Epoch 19/50\n",
      "231/231 [==============================] - 1s 2ms/step - loss: 1.1431 - accuracy: 0.5078 - val_loss: 1.6778 - val_accuracy: 0.3559 - lr: 0.0079\n",
      "Epoch 20/50\n",
      "231/231 [==============================] - 1s 2ms/step - loss: 1.1449 - accuracy: 0.5025 - val_loss: 1.6641 - val_accuracy: 0.3407 - lr: 0.0089\n",
      "Epoch 21/50\n",
      "231/231 [==============================] - 0s 2ms/step - loss: 1.1485 - accuracy: 0.5040 - val_loss: 1.6642 - val_accuracy: 0.3657 - lr: 0.0100\n",
      "Epoch 22/50\n",
      "231/231 [==============================] - 1s 2ms/step - loss: 1.1582 - accuracy: 0.5014 - val_loss: 1.6577 - val_accuracy: 0.3364 - lr: 0.0112\n",
      "Epoch 23/50\n",
      "231/231 [==============================] - 1s 2ms/step - loss: 1.1668 - accuracy: 0.4831 - val_loss: 1.6470 - val_accuracy: 0.3348 - lr: 0.0126\n",
      "Epoch 24/50\n",
      "231/231 [==============================] - 1s 2ms/step - loss: 1.2258 - accuracy: 0.4723 - val_loss: 1.6510 - val_accuracy: 0.3364 - lr: 0.0141\n",
      "Epoch 25/50\n",
      "231/231 [==============================] - 1s 2ms/step - loss: 1.2269 - accuracy: 0.4730 - val_loss: 1.6386 - val_accuracy: 0.3424 - lr: 0.0158\n",
      "Epoch 26/50\n",
      "231/231 [==============================] - 1s 2ms/step - loss: 1.2700 - accuracy: 0.4494 - val_loss: 1.6209 - val_accuracy: 0.3369 - lr: 0.0178\n",
      "Epoch 27/50\n",
      "231/231 [==============================] - 1s 2ms/step - loss: 1.3141 - accuracy: 0.4306 - val_loss: 1.5079 - val_accuracy: 0.3624 - lr: 0.0200\n",
      "Epoch 28/50\n",
      "231/231 [==============================] - 1s 2ms/step - loss: 1.3351 - accuracy: 0.4165 - val_loss: 1.4834 - val_accuracy: 0.3424 - lr: 0.0224\n",
      "Epoch 29/50\n",
      "231/231 [==============================] - 1s 2ms/step - loss: 1.3535 - accuracy: 0.4028 - val_loss: 1.5090 - val_accuracy: 0.3364 - lr: 0.0251\n",
      "Epoch 30/50\n",
      "231/231 [==============================] - 0s 2ms/step - loss: 1.3663 - accuracy: 0.3935 - val_loss: 1.4332 - val_accuracy: 0.3646 - lr: 0.0282\n",
      "Epoch 31/50\n",
      "231/231 [==============================] - 1s 2ms/step - loss: 1.3869 - accuracy: 0.3782 - val_loss: 1.5148 - val_accuracy: 0.3391 - lr: 0.0316\n",
      "Epoch 32/50\n",
      "231/231 [==============================] - 1s 2ms/step - loss: 1.3982 - accuracy: 0.3673 - val_loss: 1.4233 - val_accuracy: 0.3532 - lr: 0.0355\n",
      "Epoch 33/50\n",
      "231/231 [==============================] - 1s 2ms/step - loss: 1.3873 - accuracy: 0.3695 - val_loss: 1.4023 - val_accuracy: 0.3467 - lr: 0.0398\n",
      "Epoch 34/50\n",
      "231/231 [==============================] - 1s 2ms/step - loss: 1.4037 - accuracy: 0.3585 - val_loss: 1.4426 - val_accuracy: 0.3554 - lr: 0.0447\n",
      "Epoch 35/50\n",
      "231/231 [==============================] - 1s 2ms/step - loss: 1.3971 - accuracy: 0.3710 - val_loss: 1.4430 - val_accuracy: 0.3402 - lr: 0.0501\n",
      "Epoch 36/50\n",
      "231/231 [==============================] - 1s 2ms/step - loss: 1.4137 - accuracy: 0.3539 - val_loss: 1.4913 - val_accuracy: 0.3537 - lr: 0.0562\n",
      "Epoch 37/50\n",
      "231/231 [==============================] - 1s 2ms/step - loss: 1.4329 - accuracy: 0.3369 - val_loss: 1.4409 - val_accuracy: 0.3359 - lr: 0.0631\n",
      "Epoch 38/50\n",
      "231/231 [==============================] - 1s 2ms/step - loss: 1.4431 - accuracy: 0.3339 - val_loss: 1.5004 - val_accuracy: 0.2676 - lr: 0.0708\n",
      "Epoch 39/50\n",
      "231/231 [==============================] - 1s 2ms/step - loss: 1.4530 - accuracy: 0.3182 - val_loss: 1.5103 - val_accuracy: 0.3364 - lr: 0.0794\n",
      "Epoch 40/50\n",
      "231/231 [==============================] - 1s 2ms/step - loss: 1.4907 - accuracy: 0.2805 - val_loss: 1.4665 - val_accuracy: 0.2730 - lr: 0.0891\n",
      "Epoch 41/50\n",
      "231/231 [==============================] - 1s 2ms/step - loss: 1.4795 - accuracy: 0.2636 - val_loss: 1.4660 - val_accuracy: 0.2725 - lr: 0.1000\n",
      "Epoch 42/50\n",
      "231/231 [==============================] - 1s 2ms/step - loss: 1.4792 - accuracy: 0.2670 - val_loss: 1.4723 - val_accuracy: 0.2725 - lr: 0.1122\n",
      "Epoch 43/50\n",
      "231/231 [==============================] - 1s 2ms/step - loss: 1.4830 - accuracy: 0.2686 - val_loss: 1.4705 - val_accuracy: 0.2725 - lr: 0.1259\n",
      "Epoch 44/50\n",
      "231/231 [==============================] - 1s 2ms/step - loss: 1.4838 - accuracy: 0.2668 - val_loss: 1.4825 - val_accuracy: 0.2730 - lr: 0.1413\n",
      "Epoch 45/50\n",
      "231/231 [==============================] - 1s 2ms/step - loss: 1.4881 - accuracy: 0.2713 - val_loss: 1.4698 - val_accuracy: 0.2725 - lr: 0.1585\n",
      "Epoch 46/50\n",
      "231/231 [==============================] - 1s 2ms/step - loss: 1.4885 - accuracy: 0.2567 - val_loss: 1.4806 - val_accuracy: 0.2730 - lr: 0.1778\n",
      "Epoch 47/50\n",
      "231/231 [==============================] - 1s 2ms/step - loss: 1.4837 - accuracy: 0.2717 - val_loss: 1.4937 - val_accuracy: 0.2725 - lr: 0.1995\n",
      "Epoch 48/50\n",
      "231/231 [==============================] - 1s 2ms/step - loss: 1.4878 - accuracy: 0.2668 - val_loss: 1.4767 - val_accuracy: 0.2730 - lr: 0.2239\n",
      "Epoch 49/50\n",
      "231/231 [==============================] - 0s 2ms/step - loss: 1.4918 - accuracy: 0.2637 - val_loss: 1.4682 - val_accuracy: 0.2730 - lr: 0.2512\n",
      "Epoch 50/50\n",
      "231/231 [==============================] - 1s 2ms/step - loss: 1.4923 - accuracy: 0.2599 - val_loss: 1.5287 - val_accuracy: 0.2134 - lr: 0.2818\n"
     ]
    }
   ],
   "source": [
    "tf.random.set_seed(42)\n",
    "epochs=50\n",
    "\n",
    "model_1 = tf.keras.Sequential([\n",
    "    feature_layer,\n",
    "    tf.keras.layers.Dense(128, activation=\"relu\"),\n",
    "    tf.keras.layers.Dense(128, activation=\"relu\"),\n",
    "    tf.keras.layers.Dense(5, activation=\"softmax\"),\n",
    "])\n",
    "\n",
    "model_1.compile(loss = tf.keras.losses.SparseCategoricalCrossentropy(),\n",
    "               optimizer = tf.keras.optimizers.Adam(),\n",
    "               metrics = [\"accuracy\"]\n",
    "               )\n",
    "\n",
    "lr_scheduler = tf.keras.callbacks.LearningRateScheduler(lambda epoch: 1e-3 * 10**(epoch/20))\n",
    "\n",
    "find_lr_history = model_1.fit(train_ds,\n",
    "                             validation_data = val_ds,\n",
    "                             epochs=epochs,\n",
    "                             callbacks = [lr_scheduler])"
   ]
  },
  {
   "cell_type": "markdown",
   "metadata": {},
   "source": [
    "It appears as though a learning rate of 0.001 to 0.002 is ideal given the process is to identify the learning rate with the lowest error metric, and then to go back a little (left on the x-axis)"
   ]
  },
  {
   "cell_type": "code",
   "execution_count": 39,
   "metadata": {},
   "outputs": [
    {
     "data": {
      "image/png": "[encoded data removed]",
      "text/plain": [
       "<Figure size 432x288 with 1 Axes>"
      ]
     },
     "metadata": {
      "needs_background": "light"
     },
     "output_type": "display_data"
    }
   ],
   "source": [
    "# 50 epochs\n",
    "# Plot learning rate decay curve\n",
    "import numpy as np\n",
    "import matplotlib.pyplot as plt\n",
    "\n",
    "lrs_den = epochs/2\n",
    "\n",
    "lrs = 1e-3 * (10**(np.arange(epochs)/25))\n",
    "plt.semilogx(lrs, find_lr_history.history[\"loss\"]) # We want the x-axis to be log-scaled\n",
    "plt.xlabel(\"Learning Rate\")\n",
    "plt.ylabel(\"Loss\")\n",
    "plt.title(\"Finding ideal learning rate\");"
   ]
  },
  {
   "cell_type": "code",
   "execution_count": 40,
   "metadata": {
    "scrolled": true
   },
   "outputs": [
    {
     "name": "stdout",
     "output_type": "stream",
     "text": [
      "Epoch 1/25\n",
      "WARNING:tensorflow:Layers in a Sequential model should only have a single input tensor. Received: inputs={'Type': <tf.Tensor 'IteratorGetNext:11' shape=(None,) dtype=string>, 'Age': <tf.Tensor 'IteratorGetNext:0' shape=(None,) dtype=float64>, 'Breed1': <tf.Tensor 'IteratorGetNext:1' shape=(None,) dtype=string>, 'Gender': <tf.Tensor 'IteratorGetNext:6' shape=(None,) dtype=string>, 'Color1': <tf.Tensor 'IteratorGetNext:2' shape=(None,) dtype=string>, 'Color2': <tf.Tensor 'IteratorGetNext:3' shape=(None,) dtype=string>, 'MaturitySize': <tf.Tensor 'IteratorGetNext:8' shape=(None,) dtype=string>, 'FurLength': <tf.Tensor 'IteratorGetNext:5' shape=(None,) dtype=string>, 'Vaccinated': <tf.Tensor 'IteratorGetNext:12' shape=(None,) dtype=string>, 'Sterilized': <tf.Tensor 'IteratorGetNext:10' shape=(None,) dtype=string>, 'Health': <tf.Tensor 'IteratorGetNext:7' shape=(None,) dtype=string>, 'Fee': <tf.Tensor 'IteratorGetNext:4' shape=(None,) dtype=float64>, 'PhotoAmt': <tf.Tensor 'IteratorGetNext:9' shape=(None,) dtype=float64>}. Consider rewriting this model with the Functional API.\n",
      "WARNING:tensorflow:Layers in a Sequential model should only have a single input tensor. Received: inputs={'Type': <tf.Tensor 'IteratorGetNext:11' shape=(None,) dtype=string>, 'Age': <tf.Tensor 'IteratorGetNext:0' shape=(None,) dtype=float64>, 'Breed1': <tf.Tensor 'IteratorGetNext:1' shape=(None,) dtype=string>, 'Gender': <tf.Tensor 'IteratorGetNext:6' shape=(None,) dtype=string>, 'Color1': <tf.Tensor 'IteratorGetNext:2' shape=(None,) dtype=string>, 'Color2': <tf.Tensor 'IteratorGetNext:3' shape=(None,) dtype=string>, 'MaturitySize': <tf.Tensor 'IteratorGetNext:8' shape=(None,) dtype=string>, 'FurLength': <tf.Tensor 'IteratorGetNext:5' shape=(None,) dtype=string>, 'Vaccinated': <tf.Tensor 'IteratorGetNext:12' shape=(None,) dtype=string>, 'Sterilized': <tf.Tensor 'IteratorGetNext:10' shape=(None,) dtype=string>, 'Health': <tf.Tensor 'IteratorGetNext:7' shape=(None,) dtype=string>, 'Fee': <tf.Tensor 'IteratorGetNext:4' shape=(None,) dtype=float64>, 'PhotoAmt': <tf.Tensor 'IteratorGetNext:9' shape=(None,) dtype=float64>}. Consider rewriting this model with the Functional API.\n",
      "231/231 [==============================] - ETA: 0s - loss: 1.4041 - accuracy: 0.3646WARNING:tensorflow:Layers in a Sequential model should only have a single input tensor. Received: inputs={'Type': <tf.Tensor 'IteratorGetNext:11' shape=(None,) dtype=string>, 'Age': <tf.Tensor 'IteratorGetNext:0' shape=(None,) dtype=float64>, 'Breed1': <tf.Tensor 'IteratorGetNext:1' shape=(None,) dtype=string>, 'Gender': <tf.Tensor 'IteratorGetNext:6' shape=(None,) dtype=string>, 'Color1': <tf.Tensor 'IteratorGetNext:2' shape=(None,) dtype=string>, 'Color2': <tf.Tensor 'IteratorGetNext:3' shape=(None,) dtype=string>, 'MaturitySize': <tf.Tensor 'IteratorGetNext:8' shape=(None,) dtype=string>, 'FurLength': <tf.Tensor 'IteratorGetNext:5' shape=(None,) dtype=string>, 'Vaccinated': <tf.Tensor 'IteratorGetNext:12' shape=(None,) dtype=string>, 'Sterilized': <tf.Tensor 'IteratorGetNext:10' shape=(None,) dtype=string>, 'Health': <tf.Tensor 'IteratorGetNext:7' shape=(None,) dtype=string>, 'Fee': <tf.Tensor 'IteratorGetNext:4' shape=(None,) dtype=float64>, 'PhotoAmt': <tf.Tensor 'IteratorGetNext:9' shape=(None,) dtype=float64>}. Consider rewriting this model with the Functional API.\n",
      "231/231 [==============================] - 2s 4ms/step - loss: 1.4041 - accuracy: 0.3646 - val_loss: 1.3984 - val_accuracy: 0.3651\n",
      "Epoch 2/25\n",
      "231/231 [==============================] - 1s 2ms/step - loss: 1.3527 - accuracy: 0.3986 - val_loss: 1.3818 - val_accuracy: 0.3711\n",
      "Epoch 3/25\n",
      "231/231 [==============================] - 1s 2ms/step - loss: 1.3268 - accuracy: 0.4126 - val_loss: 1.3783 - val_accuracy: 0.3749\n",
      "Epoch 4/25\n",
      "231/231 [==============================] - 1s 2ms/step - loss: 1.3032 - accuracy: 0.4298 - val_loss: 1.3939 - val_accuracy: 0.3814\n",
      "Epoch 5/25\n",
      "231/231 [==============================] - 1s 2ms/step - loss: 1.2835 - accuracy: 0.4398 - val_loss: 1.4174 - val_accuracy: 0.3689\n",
      "Epoch 6/25\n",
      "231/231 [==============================] - 1s 2ms/step - loss: 1.2563 - accuracy: 0.4598 - val_loss: 1.4021 - val_accuracy: 0.3841\n",
      "Epoch 7/25\n",
      "231/231 [==============================] - 0s 2ms/step - loss: 1.2275 - accuracy: 0.4691 - val_loss: 1.4464 - val_accuracy: 0.3537\n",
      "Epoch 8/25\n",
      "231/231 [==============================] - 0s 2ms/step - loss: 1.2060 - accuracy: 0.4773 - val_loss: 1.4705 - val_accuracy: 0.3554\n",
      "Epoch 9/25\n",
      "231/231 [==============================] - 1s 2ms/step - loss: 1.1718 - accuracy: 0.4999 - val_loss: 1.4868 - val_accuracy: 0.3678\n",
      "Epoch 10/25\n",
      "231/231 [==============================] - 1s 2ms/step - loss: 1.1397 - accuracy: 0.5159 - val_loss: 1.5314 - val_accuracy: 0.3651\n",
      "Epoch 11/25\n",
      "231/231 [==============================] - 1s 2ms/step - loss: 1.1071 - accuracy: 0.5278 - val_loss: 1.5460 - val_accuracy: 0.3592\n",
      "Epoch 12/25\n",
      "231/231 [==============================] - 0s 2ms/step - loss: 1.0722 - accuracy: 0.5518 - val_loss: 1.5826 - val_accuracy: 0.3521\n",
      "Epoch 13/25\n",
      "231/231 [==============================] - 1s 2ms/step - loss: 1.0334 - accuracy: 0.5647 - val_loss: 1.6107 - val_accuracy: 0.3602\n",
      "Epoch 14/25\n",
      "231/231 [==============================] - 1s 3ms/step - loss: 0.9992 - accuracy: 0.5805 - val_loss: 1.6825 - val_accuracy: 0.3564\n",
      "Epoch 15/25\n",
      "231/231 [==============================] - 1s 2ms/step - loss: 0.9692 - accuracy: 0.5966 - val_loss: 1.7100 - val_accuracy: 0.3478\n",
      "Epoch 16/25\n",
      "231/231 [==============================] - 0s 2ms/step - loss: 0.9325 - accuracy: 0.6198 - val_loss: 1.7764 - val_accuracy: 0.3554\n",
      "Epoch 17/25\n",
      "231/231 [==============================] - 1s 2ms/step - loss: 0.8993 - accuracy: 0.6239 - val_loss: 1.8094 - val_accuracy: 0.3537\n",
      "Epoch 18/25\n",
      "231/231 [==============================] - 1s 2ms/step - loss: 0.8691 - accuracy: 0.6411 - val_loss: 1.8605 - val_accuracy: 0.3570\n",
      "Epoch 19/25\n",
      "231/231 [==============================] - 1s 2ms/step - loss: 0.8367 - accuracy: 0.6546 - val_loss: 1.9334 - val_accuracy: 0.3581\n",
      "Epoch 20/25\n",
      "231/231 [==============================] - 1s 2ms/step - loss: 0.8050 - accuracy: 0.6686 - val_loss: 1.9880 - val_accuracy: 0.3494\n",
      "Epoch 21/25\n",
      "231/231 [==============================] - 1s 2ms/step - loss: 0.7852 - accuracy: 0.6833 - val_loss: 2.0545 - val_accuracy: 0.3505\n",
      "Epoch 22/25\n",
      "231/231 [==============================] - 0s 2ms/step - loss: 0.7592 - accuracy: 0.6864 - val_loss: 2.0942 - val_accuracy: 0.3624\n",
      "Epoch 23/25\n",
      "231/231 [==============================] - 1s 2ms/step - loss: 0.7278 - accuracy: 0.6954 - val_loss: 2.1726 - val_accuracy: 0.3505\n",
      "Epoch 24/25\n",
      "231/231 [==============================] - 1s 2ms/step - loss: 0.7096 - accuracy: 0.7064 - val_loss: 2.2148 - val_accuracy: 0.3483\n",
      "Epoch 25/25\n",
      "231/231 [==============================] - 1s 2ms/step - loss: 0.6817 - accuracy: 0.7177 - val_loss: 2.2575 - val_accuracy: 0.3516\n"
     ]
    }
   ],
   "source": [
    "tf.random.set_seed(42)\n",
    "epochs=25\n",
    "\n",
    "model_2 = tf.keras.Sequential([\n",
    "    feature_layer,\n",
    "    tf.keras.layers.Dense(128, activation=\"relu\"),\n",
    "    tf.keras.layers.Dense(128, activation=\"relu\"),\n",
    "    tf.keras.layers.Dense(5, activation=\"softmax\"),\n",
    "])\n",
    "\n",
    "model_2.compile(loss = tf.keras.losses.SparseCategoricalCrossentropy(),\n",
    "               optimizer = tf.keras.optimizers.Adam(learning_rate=0.002),\n",
    "               metrics = [\"accuracy\"]\n",
    "               )\n",
    "\n",
    "find_lr_history = model_2.fit(train_ds,\n",
    "                             validation_data = val_ds,\n",
    "                             epochs=epochs)"
   ]
  },
  {
   "cell_type": "markdown",
   "metadata": {},
   "source": [
    "Evaluate model accuracy against our test data set"
   ]
  },
  {
   "cell_type": "code",
   "execution_count": 41,
   "metadata": {},
   "outputs": [
    {
     "name": "stdout",
     "output_type": "stream",
     "text": [
      "73/73 [==============================] - 0s 2ms/step - loss: 2.2923 - accuracy: 0.3319\n"
     ]
    },
    {
     "data": {
      "text/plain": [
       "[2.2922816276550293, 0.3318890929222107]"
      ]
     },
     "execution_count": 41,
     "metadata": {},
     "output_type": "execute_result"
    }
   ],
   "source": [
    "model_2.evaluate(test_ds)"
   ]
  },
  {
   "cell_type": "markdown",
   "metadata": {},
   "source": [
    "### Visualize Performance\n",
    "Create a confusion matrix function to help us visualize our performance"
   ]
  },
  {
   "cell_type": "code",
   "execution_count": 42,
   "metadata": {},
   "outputs": [],
   "source": [
    "import itertools\n",
    "from sklearn.metrics import confusion_matrix\n",
    "\n",
    "# Our function needs a different name to sklearn's plot_confusion_matrix\n",
    "def make_confusion_matrix(y_true, y_pred, classes=None, figsize=(10, 10), text_size=15): \n",
    "    \"\"\"Makes a labelled confusion matrix comparing predictions and ground truth labels.\n",
    "\n",
    "    If classes is passed, confusion matrix will be labelled, if not, integer class values\n",
    "    will be used.\n",
    "\n",
    "    Args:\n",
    "        y_true: Array of truth labels (must be same shape as y_pred).\n",
    "        y_pred: Array of predicted labels (must be same shape as y_true).\n",
    "        classes: Array of class labels (e.g. string form). If `None`, integer labels are used.\n",
    "        figsize: Size of output figure (default=(10, 10)).\n",
    "        text_size: Size of output figure text (default=15).\n",
    "    Returns:\n",
    "        A labelled confusion matrix plot comparing y_true and y_pred.\n",
    "\n",
    "    Example usage:\n",
    "        make_confusion_matrix(y_true=test_labels, # ground truth test labels\n",
    "            y_pred=y_preds, # predicted labels\n",
    "            classes=class_names, # array of class label names\n",
    "            figsize=(15, 15),\n",
    "            text_size=10)\n",
    "    \"\"\" \n",
    "    # Create the confustion matrix\n",
    "    cm = confusion_matrix(y_true, y_pred)\n",
    "    cm_norm = cm.astype(\"float\") / cm.sum(axis=1)[:, np.newaxis] # normalize it\n",
    "    n_classes = cm.shape[0] # find the number of classes we're dealing with\n",
    "\n",
    "    # Plot the figure and make it pretty\n",
    "    fig, ax = plt.subplots(figsize=figsize)\n",
    "    cax = ax.matshow(cm, cmap=plt.cm.Blues) # colors will represent how 'correct' a class is, darker == better\n",
    "    fig.colorbar(cax)\n",
    "\n",
    "    # Are there a list of classes?\n",
    "    if classes:\n",
    "        labels = classes\n",
    "    else:\n",
    "        labels = np.arange(cm.shape[0])\n",
    "        \n",
    "    # Label the axes\n",
    "    ax.set(title=\"Confusion Matrix\",\n",
    "        xlabel=\"Predicted label\",\n",
    "        ylabel=\"True label\",\n",
    "        xticks=np.arange(n_classes), # create enough axis slots for each class\n",
    "        yticks=np.arange(n_classes), \n",
    "        xticklabels=labels, # axes will labeled with class names (if they exist) or ints\n",
    "        yticklabels=labels)\n",
    "    \n",
    "    # Make x-axis labels appear on bottom\n",
    "    ax.xaxis.set_label_position(\"bottom\")\n",
    "    ax.xaxis.tick_bottom()\n",
    "\n",
    "    # Set the threshold for different colors\n",
    "    threshold = (cm.max() + cm.min()) / 2.\n",
    "\n",
    "    # Plot the text on each cell\n",
    "    for i, j in itertools.product(range(cm.shape[0]), range(cm.shape[1])):\n",
    "        plt.text(j, i, f\"{cm[i, j]} ({cm_norm[i, j]*100:.1f}%)\",\n",
    "            horizontalalignment=\"center\",\n",
    "            color=\"white\" if cm[i, j] > threshold else \"black\",\n",
    "            size=text_size)"
   ]
  },
  {
   "cell_type": "code",
   "execution_count": 43,
   "metadata": {},
   "outputs": [
    {
     "name": "stdout",
     "output_type": "stream",
     "text": [
      "WARNING:tensorflow:Layers in a Sequential model should only have a single input tensor. Received: inputs={'Type': <tf.Tensor 'IteratorGetNext:11' shape=(None,) dtype=string>, 'Age': <tf.Tensor 'IteratorGetNext:0' shape=(None,) dtype=float64>, 'Breed1': <tf.Tensor 'IteratorGetNext:1' shape=(None,) dtype=string>, 'Gender': <tf.Tensor 'IteratorGetNext:6' shape=(None,) dtype=string>, 'Color1': <tf.Tensor 'IteratorGetNext:2' shape=(None,) dtype=string>, 'Color2': <tf.Tensor 'IteratorGetNext:3' shape=(None,) dtype=string>, 'MaturitySize': <tf.Tensor 'IteratorGetNext:8' shape=(None,) dtype=string>, 'FurLength': <tf.Tensor 'IteratorGetNext:5' shape=(None,) dtype=string>, 'Vaccinated': <tf.Tensor 'IteratorGetNext:12' shape=(None,) dtype=string>, 'Sterilized': <tf.Tensor 'IteratorGetNext:10' shape=(None,) dtype=string>, 'Health': <tf.Tensor 'IteratorGetNext:7' shape=(None,) dtype=string>, 'Fee': <tf.Tensor 'IteratorGetNext:4' shape=(None,) dtype=float64>, 'PhotoAmt': <tf.Tensor 'IteratorGetNext:9' shape=(None,) dtype=float64>}. Consider rewriting this model with the Functional API.\n",
      "73/73 [==============================] - 0s 1ms/step\n"
     ]
    },
    {
     "data": {
      "text/plain": [
       "array([[1.5426303e-03, 3.5596523e-02, 3.7337133e-01, 2.1447897e-02,\n",
       "        5.6804156e-01],\n",
       "       [1.3613836e-03, 6.4759620e-02, 8.7796456e-01, 4.9495332e-02,\n",
       "        6.4192316e-03],\n",
       "       [8.7867454e-03, 2.6997449e-03, 3.0279124e-01, 2.5541455e-01,\n",
       "        4.3030778e-01],\n",
       "       [1.2416078e-02, 6.7946576e-02, 5.8922835e-02, 6.3104475e-01,\n",
       "        2.2966973e-01],\n",
       "       [5.8995641e-04, 2.4633346e-02, 2.0991421e-01, 3.6047518e-01,\n",
       "        4.0438735e-01]], dtype=float32)"
      ]
     },
     "execution_count": 43,
     "metadata": {},
     "output_type": "execute_result"
    }
   ],
   "source": [
    "y_probs = model_2.predict(test_ds)\n",
    "\n",
    "y_probs[:5]"
   ]
  },
  {
   "cell_type": "code",
   "execution_count": 44,
   "metadata": {},
   "outputs": [
    {
     "data": {
      "text/plain": [
       "array([4, 2, 2, 3, 3])"
      ]
     },
     "execution_count": 44,
     "metadata": {},
     "output_type": "execute_result"
    }
   ],
   "source": [
    "test_labels = np.concatenate([y for x, y in test_ds], axis=0)\n",
    "test_labels[:5]"
   ]
  },
  {
   "cell_type": "code",
   "execution_count": 45,
   "metadata": {},
   "outputs": [
    {
     "data": {
      "text/plain": [
       "array([4, 2, 4, 3, 4])"
      ]
     },
     "execution_count": 45,
     "metadata": {},
     "output_type": "execute_result"
    }
   ],
   "source": [
    "y_preds = y_probs.argmax(axis=1)\n",
    "\n",
    "y_preds[:5]"
   ]
  },
  {
   "cell_type": "code",
   "execution_count": 46,
   "metadata": {},
   "outputs": [
    {
     "data": {
      "image/png": "[encoded data removed]",
      "text/plain": [
       "<Figure size 1080x1080 with 2 Axes>"
      ]
     },
     "metadata": {
      "needs_background": "light"
     },
     "output_type": "display_data"
    }
   ],
   "source": [
    "make_confusion_matrix(y_true=test_labels,\n",
    "                     y_pred = y_preds,\n",
    "                     figsize=(15, 15),\n",
    "                     text_size=10)"
   ]
  },
  {
   "cell_type": "code",
   "execution_count": null,
   "metadata": {},
   "outputs": [],
   "source": []
  }
 ],
 "metadata": {
  "kernelspec": {
   "display_name": "Python 3",
   "language": "python",
   "name": "python3"
  },
  "language_info": {
   "codemirror_mode": {
    "name": "ipython",
    "version": 3
   },
   "file_extension": ".py",
   "mimetype": "text/x-python",
   "name": "python",
   "nbconvert_exporter": "python",
   "pygments_lexer": "ipython3",
   "version": "3.7.3"
  }
 },
 "nbformat": 4,
 "nbformat_minor": 2
}
